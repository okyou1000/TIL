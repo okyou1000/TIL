{
 "cells": [
  {
   "cell_type": "code",
   "execution_count": null,
   "metadata": {},
   "outputs": [],
   "source": [
    "\"\"\"\n",
    "케라스\n",
    ": Sequential 클래스로 모델 생성(순차적으로 레이어를 쌓아가는 방식으로 모델링)\n",
    "1) 데이터셋 생성\n",
    "- 훈련/검증/시험셋 생성\n",
    "- 데이터 형식 변환\n",
    "2) 모델(신경망/깊은 신경망) 구성\n",
    "- Sequential 클래스 이용하여 레이어 추가하여 구성\n",
    "- 복잡한 모델의 경우에는 함수api 사용\n",
    "3) 학습과정 설정\n",
    "- cost함수 정의, 최적화 방법 정의\n",
    "- compile함수\n",
    "4) 모델 학습\n",
    "- 훈련 -> 모델 학습\n",
    "- fit함수\n",
    "5) 학습과정 점검\n",
    "- 훈련셋, 검증셋 cost, acc 확인\n",
    "- 반복횟수 설정\n",
    "6) 모델 평가\n",
    "- 테스트 데이터로 평가\n",
    "- evaluate함수\n",
    "7) 모델 사용\n",
    "- 임의 입력 데이터 -> 모델 -> 예측된 출력값\n",
    "- predict함수\n",
    "\"\"\""
   ]
  },
  {
   "cell_type": "code",
   "execution_count": 25,
   "metadata": {},
   "outputs": [],
   "source": [
    "# 패키지 로드\n",
    "from keras.utils import np_utils\n",
    "from keras.datasets import mnist\n",
    "from keras.models import Sequential\n",
    "from keras.layers import Dense, Activation\n",
    "\n",
    "# 1) 데이터셋 생성\n",
    "# - 훈련/검증/시험셋 생성\n",
    "# - 데이터 형식 변환\n",
    "(xTrain, yTrain), (xTest, yTest) = mnist.load_data()"
   ]
  },
  {
   "cell_type": "code",
   "execution_count": 26,
   "metadata": {},
   "outputs": [],
   "source": [
    "# xTrain.shape # (60000, 28, 28)\n",
    "# print(xTrain[0])\n",
    "xTrain = xTrain.reshape(60000, 28*28).astype('float32') / 255.0\n",
    "xTest = xTest.reshape(10000, 28*28).astype('float32') / 255.0"
   ]
  },
  {
   "cell_type": "code",
   "execution_count": 27,
   "metadata": {},
   "outputs": [
    {
     "data": {
      "text/plain": [
       "array([5, 0, 4, ..., 5, 6, 8], dtype=uint8)"
      ]
     },
     "execution_count": 27,
     "metadata": {},
     "output_type": "execute_result"
    }
   ],
   "source": [
    "yTrain"
   ]
  },
  {
   "cell_type": "code",
   "execution_count": 28,
   "metadata": {},
   "outputs": [],
   "source": [
    "# np_utils.to_categorical(yTrain)[0]\n",
    "yTrain = np_utils.to_categorical(yTrain)\n",
    "yTest = np_utils.to_categorical(yTest)"
   ]
  },
  {
   "cell_type": "code",
   "execution_count": 32,
   "metadata": {},
   "outputs": [],
   "source": [
    "# 2) 모델(신경망/깊은 신경망) 구성\n",
    "# - Sequential 클래스 이용하여 레이어 추가하여 구성\n",
    "# - 복잡한 모델의 경우에는 함수api 사용\n",
    "model = Sequential()\n",
    "model.add(Dense(units = 64 , input_dim = 28*28, activation = 'relu')) # add함수 : 레이어 추가\n",
    "model.add(Dense(units = 10, activation = 'softmax'))"
   ]
  },
  {
   "cell_type": "code",
   "execution_count": 33,
   "metadata": {},
   "outputs": [],
   "source": [
    "# 3) 학습과정 설정\n",
    "# - cost함수 정의, 최적화 방법 정의\n",
    "# - compile함수\n",
    "model.compile(loss = 'categorical_crossentropy', optimizer = 'sgd', metrics = ['accuracy'])"
   ]
  },
  {
   "cell_type": "code",
   "execution_count": 34,
   "metadata": {},
   "outputs": [
    {
     "name": "stdout",
     "output_type": "stream",
     "text": [
      "Epoch 1/5\n",
      "1875/1875 [==============================] - 5s 3ms/step - loss: 0.6818 - accuracy: 0.8280\n",
      "Epoch 2/5\n",
      "1875/1875 [==============================] - 6s 3ms/step - loss: 0.3503 - accuracy: 0.9026\n",
      "Epoch 3/5\n",
      "1875/1875 [==============================] - 6s 3ms/step - loss: 0.3039 - accuracy: 0.9147\n",
      "Epoch 4/5\n",
      "1875/1875 [==============================] - 5s 3ms/step - loss: 0.2762 - accuracy: 0.9226\n",
      "Epoch 5/5\n",
      "1875/1875 [==============================] - 5s 3ms/step - loss: 0.2549 - accuracy: 0.9292\n"
     ]
    }
   ],
   "source": [
    "# 4) 모델 학습\n",
    "# - 훈련 -> 모델 학습\n",
    "# - fit함수\n",
    "hist = model.fit(xTrain, yTrain, epochs = 5, batch_size = 32)"
   ]
  },
  {
   "cell_type": "code",
   "execution_count": 35,
   "metadata": {},
   "outputs": [
    {
     "name": "stdout",
     "output_type": "stream",
     "text": [
      "[0.6818488836288452, 0.3502984344959259, 0.3039219379425049, 0.2762167453765869, 0.25494274497032166]\n"
     ]
    }
   ],
   "source": [
    "print(hist.history['loss'])"
   ]
  },
  {
   "cell_type": "code",
   "execution_count": 36,
   "metadata": {},
   "outputs": [
    {
     "name": "stdout",
     "output_type": "stream",
     "text": [
      "[0.8279666900634766, 0.902649998664856, 0.914650022983551, 0.9226333498954773, 0.9291666746139526]\n"
     ]
    }
   ],
   "source": [
    "print(hist.history['accuracy'])"
   ]
  },
  {
   "cell_type": "code",
   "execution_count": 37,
   "metadata": {},
   "outputs": [
    {
     "name": "stdout",
     "output_type": "stream",
     "text": [
      "313/313 [==============================] - 1s 3ms/step - loss: 0.2389 - accuracy: 0.9314\n",
      "모델 평가 결과 : [0.23889882862567902, 0.9314000010490417]\n"
     ]
    }
   ],
   "source": [
    "# 모델 평가하기\n",
    "# 6) 모델 평가\n",
    "# - 테스트 데이터로 평가\n",
    "# - evaluate함수\n",
    "res = model.evaluate(xTest, yTest, batch_size = 32)\n",
    "print(\"모델 평가 결과 :\", res)"
   ]
  },
  {
   "cell_type": "code",
   "execution_count": 43,
   "metadata": {},
   "outputs": [
    {
     "name": "stdout",
     "output_type": "stream",
     "text": [
      "예측 결과 : [[2.02148207e-04 6.78246082e-08 3.17799713e-04 1.44009164e-03\n",
      "  1.61708988e-06 1.11809124e-04 1.02293072e-08 9.97623742e-01\n",
      "  1.58533385e-05 2.86875205e-04]]\n"
     ]
    },
    {
     "data": {
      "text/plain": [
       "7"
      ]
     },
     "execution_count": 43,
     "metadata": {},
     "output_type": "execute_result"
    }
   ],
   "source": [
    "# xTest[0:1] # (1, 784)\n",
    "yTest[0] # 정답 : 7\n",
    "\n",
    "# 7) 모델 사용\n",
    "# - 임의 입력 데이터 -> 모델 -> 예측된 출력값\n",
    "# - predict함수\n",
    "yhat = model.predict(xTest[0:1])\n",
    "print(\"예측 결과 :\", yhat) # 퀴즈 1. 7 출력\n",
    "\n",
    "# import numpy as np\n",
    "# np.sum(yhat[0])\n",
    "np.argmax(yhat[0])"
   ]
  },
  {
   "cell_type": "code",
   "execution_count": 49,
   "metadata": {},
   "outputs": [],
   "source": [
    "# 선형회귀\n",
    "x = np.array([1, 2, 3, 4, 5, 6, 7, 8, 9]) # 공부시간\n",
    "y = np.array([11, 20, 31, 47, 52, 69, 74, 89, 100]) # 점수"
   ]
  },
  {
   "cell_type": "code",
   "execution_count": 50,
   "metadata": {},
   "outputs": [],
   "source": [
    "# 9.5시간 -> 점수 예측?\n",
    "model = Sequential()\n",
    "model.add(Dense(units = 1, input_dim = 1, activation = 'linear')) # add함수 : 레이어 추가\n",
    "\n",
    "# yhat = wx + b\n",
    "# 예측점수 = w*9.5 + b\n",
    "\n",
    "from keras import optimizers\n",
    "\n",
    "sgd = optimizers.SGD(lr = 0.01)\n",
    "model.compile(loss = 'mse', optimizer = sgd, metrics = ['mse'])"
   ]
  },
  {
   "cell_type": "code",
   "execution_count": 51,
   "metadata": {},
   "outputs": [
    {
     "name": "stdout",
     "output_type": "stream",
     "text": [
      "Epoch 1/100\n",
      "1/1 [==============================] - 0s 4ms/step - loss: 3482.3054 - mse: 3482.3054\n",
      "Epoch 2/100\n",
      "1/1 [==============================] - 0s 4ms/step - loss: 434.1104 - mse: 434.1104\n",
      "Epoch 3/100\n",
      "1/1 [==============================] - 0s 4ms/step - loss: 59.0415 - mse: 59.0415\n",
      "Epoch 4/100\n",
      "1/1 [==============================] - 0s 4ms/step - loss: 12.8808 - mse: 12.8808\n",
      "Epoch 5/100\n",
      "1/1 [==============================] - 0s 3ms/step - loss: 7.1898 - mse: 7.1898\n",
      "Epoch 6/100\n",
      "1/1 [==============================] - 0s 12ms/step - loss: 6.4784 - mse: 6.4784\n",
      "Epoch 7/100\n",
      "1/1 [==============================] - 0s 4ms/step - loss: 6.3797 - mse: 6.3797\n",
      "Epoch 8/100\n",
      "1/1 [==============================] - 0s 4ms/step - loss: 6.3566 - mse: 6.3566\n",
      "Epoch 9/100\n",
      "1/1 [==============================] - ETA: 0s - loss: 6.3429 - mse: 6.342 - 0s 7ms/step - loss: 6.3429 - mse: 6.3429\n",
      "Epoch 10/100\n",
      "1/1 [==============================] - 0s 10ms/step - loss: 6.3304 - mse: 6.3304\n",
      "Epoch 11/100\n",
      "1/1 [==============================] - 0s 7ms/step - loss: 6.3181 - mse: 6.3181\n",
      "Epoch 12/100\n",
      "1/1 [==============================] - 0s 3ms/step - loss: 6.3060 - mse: 6.3060\n",
      "Epoch 13/100\n",
      "1/1 [==============================] - 0s 3ms/step - loss: 6.2939 - mse: 6.2939\n",
      "Epoch 14/100\n",
      "1/1 [==============================] - 0s 15ms/step - loss: 6.2820 - mse: 6.2820\n",
      "Epoch 15/100\n",
      "1/1 [==============================] - 0s 5ms/step - loss: 6.2702 - mse: 6.2702\n",
      "Epoch 16/100\n",
      "1/1 [==============================] - 0s 2ms/step - loss: 6.2584 - mse: 6.2584\n",
      "Epoch 17/100\n",
      "1/1 [==============================] - 0s 5ms/step - loss: 6.2468 - mse: 6.2468\n",
      "Epoch 18/100\n",
      "1/1 [==============================] - 0s 3ms/step - loss: 6.2352 - mse: 6.2352\n",
      "Epoch 19/100\n",
      "1/1 [==============================] - 0s 11ms/step - loss: 6.2238 - mse: 6.2238\n",
      "Epoch 20/100\n",
      "1/1 [==============================] - 0s 4ms/step - loss: 6.2124 - mse: 6.2124\n",
      "Epoch 21/100\n",
      "1/1 [==============================] - 0s 2ms/step - loss: 6.2011 - mse: 6.2011\n",
      "Epoch 22/100\n",
      "1/1 [==============================] - 0s 67ms/step - loss: 6.1900 - mse: 6.1900\n",
      "Epoch 23/100\n",
      "1/1 [==============================] - 0s 10ms/step - loss: 6.1789 - mse: 6.1789\n",
      "Epoch 24/100\n",
      "1/1 [==============================] - 0s 5ms/step - loss: 6.1679 - mse: 6.1679\n",
      "Epoch 25/100\n",
      "1/1 [==============================] - 0s 4ms/step - loss: 6.1570 - mse: 6.1570\n",
      "Epoch 26/100\n",
      "1/1 [==============================] - 0s 7ms/step - loss: 6.1462 - mse: 6.1462\n",
      "Epoch 27/100\n",
      "1/1 [==============================] - 0s 4ms/step - loss: 6.1354 - mse: 6.1354\n",
      "Epoch 28/100\n",
      "1/1 [==============================] - 0s 5ms/step - loss: 6.1248 - mse: 6.1248\n",
      "Epoch 29/100\n",
      "1/1 [==============================] - 0s 4ms/step - loss: 6.1142 - mse: 6.1142\n",
      "Epoch 30/100\n",
      "1/1 [==============================] - 0s 9ms/step - loss: 6.1038 - mse: 6.1038\n",
      "Epoch 31/100\n",
      "1/1 [==============================] - 0s 2ms/step - loss: 6.0934 - mse: 6.0934\n",
      "Epoch 32/100\n",
      "1/1 [==============================] - 0s 5ms/step - loss: 6.0831 - mse: 6.0831\n",
      "Epoch 33/100\n",
      "1/1 [==============================] - 0s 4ms/step - loss: 6.0729 - mse: 6.0729\n",
      "Epoch 34/100\n",
      "1/1 [==============================] - 0s 11ms/step - loss: 6.0628 - mse: 6.0628\n",
      "Epoch 35/100\n",
      "1/1 [==============================] - 0s 22ms/step - loss: 6.0527 - mse: 6.0527\n",
      "Epoch 36/100\n",
      "1/1 [==============================] - 0s 3ms/step - loss: 6.0428 - mse: 6.0428\n",
      "Epoch 37/100\n",
      "1/1 [==============================] - 0s 2ms/step - loss: 6.0329 - mse: 6.0329\n",
      "Epoch 38/100\n",
      "1/1 [==============================] - 0s 13ms/step - loss: 6.0231 - mse: 6.0231\n",
      "Epoch 39/100\n",
      "1/1 [==============================] - 0s 3ms/step - loss: 6.0134 - mse: 6.0134\n",
      "Epoch 40/100\n",
      "1/1 [==============================] - 0s 4ms/step - loss: 6.0037 - mse: 6.0037\n",
      "Epoch 41/100\n",
      "1/1 [==============================] - 0s 4ms/step - loss: 5.9942 - mse: 5.9942\n",
      "Epoch 42/100\n",
      "1/1 [==============================] - 0s 3ms/step - loss: 5.9847 - mse: 5.9847\n",
      "Epoch 43/100\n",
      "1/1 [==============================] - 0s 4ms/step - loss: 5.9753 - mse: 5.9753\n",
      "Epoch 44/100\n",
      "1/1 [==============================] - 0s 8ms/step - loss: 5.9659 - mse: 5.9659\n",
      "Epoch 45/100\n",
      "1/1 [==============================] - 0s 4ms/step - loss: 5.9567 - mse: 5.9567\n",
      "Epoch 46/100\n",
      "1/1 [==============================] - 0s 3ms/step - loss: 5.9475 - mse: 5.9475\n",
      "Epoch 47/100\n",
      "1/1 [==============================] - 0s 4ms/step - loss: 5.9384 - mse: 5.9384\n",
      "Epoch 48/100\n",
      "1/1 [==============================] - 0s 4ms/step - loss: 5.9294 - mse: 5.9294\n",
      "Epoch 49/100\n",
      "1/1 [==============================] - 0s 12ms/step - loss: 5.9204 - mse: 5.9204\n",
      "Epoch 50/100\n",
      "1/1 [==============================] - 0s 3ms/step - loss: 5.9116 - mse: 5.9116\n",
      "Epoch 51/100\n",
      "1/1 [==============================] - 0s 4ms/step - loss: 5.9028 - mse: 5.9028\n",
      "Epoch 52/100\n",
      "1/1 [==============================] - 0s 4ms/step - loss: 5.8940 - mse: 5.8940\n",
      "Epoch 53/100\n",
      "1/1 [==============================] - 0s 3ms/step - loss: 5.8854 - mse: 5.8854\n",
      "Epoch 54/100\n",
      "1/1 [==============================] - ETA: 0s - loss: 5.8768 - mse: 5.876 - 0s 11ms/step - loss: 5.8768 - mse: 5.8768\n",
      "Epoch 55/100\n",
      "1/1 [==============================] - 0s 5ms/step - loss: 5.8683 - mse: 5.8683\n",
      "Epoch 56/100\n",
      "1/1 [==============================] - 0s 21ms/step - loss: 5.8598 - mse: 5.8598\n",
      "Epoch 57/100\n",
      "1/1 [==============================] - 0s 4ms/step - loss: 5.8514 - mse: 5.8514\n",
      "Epoch 58/100\n",
      "1/1 [==============================] - 0s 3ms/step - loss: 5.8431 - mse: 5.8431\n",
      "Epoch 59/100\n",
      "1/1 [==============================] - 0s 3ms/step - loss: 5.8349 - mse: 5.8349\n",
      "Epoch 60/100\n",
      "1/1 [==============================] - 0s 5ms/step - loss: 5.8267 - mse: 5.8267\n",
      "Epoch 61/100\n",
      "1/1 [==============================] - 0s 9ms/step - loss: 5.8186 - mse: 5.8186\n",
      "Epoch 62/100\n",
      "1/1 [==============================] - 0s 5ms/step - loss: 5.8106 - mse: 5.8106\n",
      "Epoch 63/100\n",
      "1/1 [==============================] - 0s 10ms/step - loss: 5.8026 - mse: 5.8026\n",
      "Epoch 64/100\n",
      "1/1 [==============================] - 0s 3ms/step - loss: 5.7947 - mse: 5.7947\n",
      "Epoch 65/100\n",
      "1/1 [==============================] - 0s 4ms/step - loss: 5.7868 - mse: 5.7868\n",
      "Epoch 66/100\n",
      "1/1 [==============================] - 0s 4ms/step - loss: 5.7791 - mse: 5.7791\n",
      "Epoch 67/100\n",
      "1/1 [==============================] - 0s 8ms/step - loss: 5.7713 - mse: 5.7713\n",
      "Epoch 68/100\n",
      "1/1 [==============================] - 0s 3ms/step - loss: 5.7637 - mse: 5.7637\n",
      "Epoch 69/100\n",
      "1/1 [==============================] - 0s 5ms/step - loss: 5.7561 - mse: 5.7561\n",
      "Epoch 70/100\n",
      "1/1 [==============================] - 0s 9ms/step - loss: 5.7486 - mse: 5.7486\n",
      "Epoch 71/100\n",
      "1/1 [==============================] - 0s 3ms/step - loss: 5.7411 - mse: 5.7411\n",
      "Epoch 72/100\n",
      "1/1 [==============================] - 0s 6ms/step - loss: 5.7337 - mse: 5.7337\n",
      "Epoch 73/100\n",
      "1/1 [==============================] - 0s 3ms/step - loss: 5.7263 - mse: 5.7263\n",
      "Epoch 74/100\n",
      "1/1 [==============================] - 0s 19ms/step - loss: 5.7190 - mse: 5.7190\n",
      "Epoch 75/100\n",
      "1/1 [==============================] - 0s 3ms/step - loss: 5.7118 - mse: 5.7118\n",
      "Epoch 76/100\n",
      "1/1 [==============================] - ETA: 0s - loss: 5.7047 - mse: 5.704 - 0s 3ms/step - loss: 5.7047 - mse: 5.7047\n",
      "Epoch 77/100\n",
      "1/1 [==============================] - 0s 3ms/step - loss: 5.6975 - mse: 5.6975\n",
      "Epoch 78/100\n",
      "1/1 [==============================] - 0s 6ms/step - loss: 5.6905 - mse: 5.6905\n",
      "Epoch 79/100\n",
      "1/1 [==============================] - 0s 3ms/step - loss: 5.6835 - mse: 5.6835\n",
      "Epoch 80/100\n",
      "1/1 [==============================] - 0s 3ms/step - loss: 5.6766 - mse: 5.6766\n",
      "Epoch 81/100\n",
      "1/1 [==============================] - 0s 5ms/step - loss: 5.6697 - mse: 5.6697\n",
      "Epoch 82/100\n",
      "1/1 [==============================] - 0s 3ms/step - loss: 5.6629 - mse: 5.6629\n",
      "Epoch 83/100\n",
      "1/1 [==============================] - 0s 11ms/step - loss: 5.6561 - mse: 5.6561\n",
      "Epoch 84/100\n",
      "1/1 [==============================] - 0s 5ms/step - loss: 5.6494 - mse: 5.6494\n",
      "Epoch 85/100\n",
      "1/1 [==============================] - 0s 6ms/step - loss: 5.6427 - mse: 5.6427\n",
      "Epoch 86/100\n",
      "1/1 [==============================] - 0s 5ms/step - loss: 5.6361 - mse: 5.6361\n",
      "Epoch 87/100\n"
     ]
    },
    {
     "name": "stdout",
     "output_type": "stream",
     "text": [
      "1/1 [==============================] - 0s 9ms/step - loss: 5.6296 - mse: 5.6296\n",
      "Epoch 88/100\n",
      "1/1 [==============================] - 0s 3ms/step - loss: 5.6231 - mse: 5.6231\n",
      "Epoch 89/100\n",
      "1/1 [==============================] - 0s 3ms/step - loss: 5.6167 - mse: 5.6167\n",
      "Epoch 90/100\n",
      "1/1 [==============================] - 0s 7ms/step - loss: 5.6103 - mse: 5.6103\n",
      "Epoch 91/100\n",
      "1/1 [==============================] - 0s 4ms/step - loss: 5.6039 - mse: 5.6039\n",
      "Epoch 92/100\n",
      "1/1 [==============================] - 0s 5ms/step - loss: 5.5977 - mse: 5.5977\n",
      "Epoch 93/100\n",
      "1/1 [==============================] - 0s 4ms/step - loss: 5.5914 - mse: 5.5914\n",
      "Epoch 94/100\n",
      "1/1 [==============================] - 0s 4ms/step - loss: 5.5853 - mse: 5.5853\n",
      "Epoch 95/100\n",
      "1/1 [==============================] - 0s 4ms/step - loss: 5.5791 - mse: 5.5791\n",
      "Epoch 96/100\n",
      "1/1 [==============================] - 0s 3ms/step - loss: 5.5730 - mse: 5.5730\n",
      "Epoch 97/100\n",
      "1/1 [==============================] - 0s 37ms/step - loss: 5.5670 - mse: 5.5670\n",
      "Epoch 98/100\n",
      "1/1 [==============================] - 0s 4ms/step - loss: 5.5610 - mse: 5.5610\n",
      "Epoch 99/100\n",
      "1/1 [==============================] - 0s 4ms/step - loss: 5.5551 - mse: 5.5551\n",
      "Epoch 100/100\n",
      "1/1 [==============================] - 0s 3ms/step - loss: 5.5492 - mse: 5.5492\n"
     ]
    },
    {
     "data": {
      "text/plain": [
       "<tensorflow.python.keras.callbacks.History at 0x2cdd8b41310>"
      ]
     },
     "execution_count": 51,
     "metadata": {},
     "output_type": "execute_result"
    }
   ],
   "source": [
    "# 공부시간(x)  점수(y)\n",
    "# 1\n",
    "# 2\n",
    "# ...\n",
    "# 9\n",
    "\n",
    "model.fit(x, y, epochs = 100)"
   ]
  },
  {
   "cell_type": "code",
   "execution_count": 58,
   "metadata": {},
   "outputs": [
    {
     "name": "stdout",
     "output_type": "stream",
     "text": [
      "[[104.169464]]\n",
      "[[79.117]]\n"
     ]
    },
    {
     "data": {
      "text/plain": [
       "[<matplotlib.lines.Line2D at 0x2cdd882e6d0>,\n",
       " <matplotlib.lines.Line2D at 0x2cdd882e700>]"
      ]
     },
     "execution_count": 58,
     "metadata": {},
     "output_type": "execute_result"
    },
    {
     "data": {
      "image/png": "[encoded data removed]",
      "text/plain": [
       "<Figure size 432x288 with 1 Axes>"
      ]
     },
     "metadata": {
      "needs_background": "light"
     },
     "output_type": "display_data"
    }
   ],
   "source": [
    "# 퀴즈 2.\n",
    "# 예측\n",
    "# 9.5시간 공부 -> 몇점?\n",
    "# 7.2시간 공부 -> 몇점?\n",
    "\n",
    "print(model.predict([9.5]))\n",
    "print(model.predict([7.2]))\n",
    "\n",
    "import matplotlib.pyplot as plt\n",
    "plt.plot(x, model.predict(x), 'b', x, y, 'k.')"
   ]
  },
  {
   "cell_type": "code",
   "execution_count": 60,
   "metadata": {},
   "outputs": [
    {
     "data": {
      "text/plain": [
       "[<matplotlib.lines.Line2D at 0x2cdd3369e50>]"
      ]
     },
     "execution_count": 60,
     "metadata": {},
     "output_type": "execute_result"
    },
    {
     "data": {
      "image/png": "[encoded data removed]",
      "text/plain": [
       "<Figure size 432x288 with 1 Axes>"
      ]
     },
     "metadata": {
      "needs_background": "light"
     },
     "output_type": "display_data"
    }
   ],
   "source": [
    "def mySigmoid(x) :\n",
    "    return 1 / (1 + np.exp(-x))\n",
    "\n",
    "x = np.arange(-5, 5, 0.1)\n",
    "y = mySigmoid(x)\n",
    "plt.plot(x, y, 'g')\n",
    "plt.plot([0, 0], [1, 0], \":\")"
   ]
  },
  {
   "cell_type": "code",
   "execution_count": 61,
   "metadata": {},
   "outputs": [
    {
     "data": {
      "text/plain": [
       "[<matplotlib.lines.Line2D at 0x2cdd4b5f190>]"
      ]
     },
     "execution_count": 61,
     "metadata": {},
     "output_type": "execute_result"
    },
    {
     "data": {
      "image/png": "[encoded data removed]",
      "text/plain": [
       "<Figure size 432x288 with 1 Axes>"
      ]
     },
     "metadata": {
      "needs_background": "light"
     },
     "output_type": "display_data"
    }
   ],
   "source": [
    "def mySigmoid2(x) :\n",
    "    return 1 / (1 + np.exp(-x))\n",
    "\n",
    "x = np.arange(-5, 5, 0.1)\n",
    "y1 = mySigmoid(1 * x) # w*x\n",
    "y2 = mySigmoid(0.5 * x) # w*x\n",
    "y3 = mySigmoid(2 * x) # w*x\n",
    "plt.plot(x, y1, 'g')\n",
    "plt.plot(x, y2, 'b')\n",
    "plt.plot(x, y3, 'r')\n",
    "plt.plot([0, 0], [1, 0], \":\")"
   ]
  },
  {
   "cell_type": "code",
   "execution_count": null,
   "metadata": {},
   "outputs": [],
   "source": []
  },
  {
   "cell_type": "code",
   "execution_count": null,
   "metadata": {},
   "outputs": [],
   "source": [
    "###이진 분류기###"
   ]
  },
  {
   "cell_type": "code",
   "execution_count": 62,
   "metadata": {},
   "outputs": [],
   "source": [
    "x = np.array([-50, -40, -30, -20, -10, -5, 0, 5, 10, 22, 31, 47, 55])\n",
    "y = np.array([0, 0, 0, 0, 0, 0, 0, 1, 1, 1, 1, 1, 1]) # 0 : 불, 1 : 합"
   ]
  },
  {
   "cell_type": "code",
   "execution_count": null,
   "metadata": {},
   "outputs": [],
   "source": [
    "# x = 3, y = ? 0 or 1"
   ]
  },
  {
   "cell_type": "code",
   "execution_count": 63,
   "metadata": {},
   "outputs": [],
   "source": [
    "model = Sequential()\n",
    "model.add(Dense(1, input_dim = 1, activation = 'sigmoid'))"
   ]
  },
  {
   "cell_type": "code",
   "execution_count": 64,
   "metadata": {},
   "outputs": [],
   "source": [
    "sgd = optimizers.SGD(lr = 0.01)\n",
    "model.compile(loss = 'binary_crossentropy', optimizer = sgd, metrics = ['binary_accuracy'])"
   ]
  },
  {
   "cell_type": "code",
   "execution_count": 66,
   "metadata": {},
   "outputs": [
    {
     "name": "stdout",
     "output_type": "stream",
     "text": [
      "Epoch 1/5\n",
      "13/13 [==============================] - 0s 1ms/step - loss: 0.0245 - binary_accuracy: 1.0000\n",
      "Epoch 2/5\n",
      "13/13 [==============================] - 0s 3ms/step - loss: 0.0245 - binary_accuracy: 1.0000\n",
      "Epoch 3/5\n",
      "13/13 [==============================] - 0s 4ms/step - loss: 0.0244 - binary_accuracy: 1.0000\n",
      "Epoch 4/5\n",
      "13/13 [==============================] - 0s 4ms/step - loss: 0.0244 - binary_accuracy: 1.0000\n",
      "Epoch 5/5\n",
      "13/13 [==============================] - 0s 7ms/step - loss: 0.0243 - binary_accuracy: 1.0000\n"
     ]
    },
    {
     "data": {
      "text/plain": [
       "<tensorflow.python.keras.callbacks.History at 0x2cdd92bba30>"
      ]
     },
     "execution_count": 66,
     "metadata": {},
     "output_type": "execute_result"
    }
   ],
   "source": [
    "model.fit(x, y, batch_size = 1, epochs = 5)"
   ]
  },
  {
   "cell_type": "code",
   "execution_count": 68,
   "metadata": {},
   "outputs": [
    {
     "data": {
      "text/plain": [
       "array([[0.4994229 ],\n",
       "       [0.89127266],\n",
       "       [0.95917845]], dtype=float32)"
      ]
     },
     "execution_count": 68,
     "metadata": {},
     "output_type": "execute_result"
    },
    {
     "data": {
      "image/png": "[encoded data removed]",
      "text/plain": [
       "<Figure size 432x288 with 1 Axes>"
      ]
     },
     "metadata": {
      "needs_background": "light"
     },
     "output_type": "display_data"
    }
   ],
   "source": [
    "plt.plot(x, model.predict(x), 'b', x, y, 'k.')\n",
    "model.predict([1, 3, 4])"
   ]
  },
  {
   "cell_type": "code",
   "execution_count": null,
   "metadata": {},
   "outputs": [],
   "source": []
  }
 ],
 "metadata": {
  "kernelspec": {
   "display_name": "Python 3",
   "language": "python",
   "name": "python3"
  },
  "language_info": {
   "codemirror_mode": {
    "name": "ipython",
    "version": 3
   },
   "file_extension": ".py",
   "mimetype": "text/x-python",
   "name": "python",
   "nbconvert_exporter": "python",
   "pygments_lexer": "ipython3",
   "version": "3.8.3"
  }
 },
 "nbformat": 4,
 "nbformat_minor": 4
}
